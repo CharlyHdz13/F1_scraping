{
 "cells": [
  {
   "cell_type": "code",
   "execution_count": 85,
   "id": "8a52f7d1",
   "metadata": {},
   "outputs": [],
   "source": [
    "# Import dependencies\n",
    "from splinter import Browser\n",
    "from bs4 import BeautifulSoup as soup\n",
    "from webdriver_manager.chrome import ChromeDriverManager\n",
    "import pandas as pd\n",
    "import re"
   ]
  },
  {
   "cell_type": "code",
   "execution_count": 5,
   "id": "2c4c11b5",
   "metadata": {},
   "outputs": [
    {
     "name": "stderr",
     "output_type": "stream",
     "text": [
      "\n",
      "\n",
      "====== WebDriver manager ======\n",
      "Current google-chrome version is 96.0.4664\n",
      "Get LATEST chromedriver version for 96.0.4664 google-chrome\n",
      "Driver [C:\\Users\\PC\\.wdm\\drivers\\chromedriver\\win32\\96.0.4664.45\\chromedriver.exe] found in cache\n"
     ]
    }
   ],
   "source": [
    "# create browser that will navigate automatically through websites\n",
    "executable_path = {'executable_path': ChromeDriverManager().install()}\n",
    "browser = Browser('chrome', **executable_path, headless=False)"
   ]
  },
  {
   "cell_type": "code",
   "execution_count": 95,
   "id": "d213654e",
   "metadata": {},
   "outputs": [],
   "source": [
    "# Visit the 2021 race results site\n",
    "url = 'https://www.formula1.com/en/results.html/2021/drivers.html'\n",
    "browser.visit(url)"
   ]
  },
  {
   "cell_type": "code",
   "execution_count": 7,
   "id": "b5af4514",
   "metadata": {},
   "outputs": [],
   "source": [
    "# Accept all cookies\n",
    "browser.find_by_id('truste-consent-button').click()"
   ]
  },
  {
   "cell_type": "code",
   "execution_count": 106,
   "id": "cf4e93b5",
   "metadata": {},
   "outputs": [
    {
     "data": {
      "text/plain": [
       "['max-verstappen',\n",
       " 'lewis-hamilton',\n",
       " 'valtteri-bottas',\n",
       " 'sergio-perez',\n",
       " 'lando-norris',\n",
       " 'charles-leclerc',\n",
       " 'carlos-sainz',\n",
       " 'daniel-ricciardo',\n",
       " 'pierre-gasly',\n",
       " 'fernando-alonso',\n",
       " 'esteban-ocon',\n",
       " 'sebastian-vettel',\n",
       " 'lance-stroll',\n",
       " 'yuki-tsunoda',\n",
       " 'george-russell',\n",
       " 'kimi-räikkönen',\n",
       " 'nicholas-latifi',\n",
       " 'antonio-giovinazzi',\n",
       " 'mick-schumacher',\n",
       " 'robert-kubica',\n",
       " 'nikita-mazepin']"
      ]
     },
     "execution_count": 106,
     "metadata": {},
     "output_type": "execute_result"
    }
   ],
   "source": [
    "# Convert the browser html to a soup object\n",
    "html = browser.html\n",
    "f1_soup = soup(html, 'html.parser')\n",
    "\n",
    "# Gets the table html\n",
    "drivers_html = f1_soup.find_all('tr')\n",
    "\n",
    "# Empty list to save the drivers names\n",
    "drivers=[]\n",
    "\n",
    "for driver in drivers_html:\n",
    "    \n",
    "    # Converts html to a list \n",
    "    l = driver.get_text().split()\n",
    "    \n",
    "    # Adds each value to the list and converts it to get the href\n",
    "    drivers.append(l[1].lower()+'-'+l[2].lower())\n",
    "\n",
    "# Removes header\n",
    "drivers.pop(0)\n",
    "drivers"
   ]
  },
  {
   "cell_type": "code",
   "execution_count": 107,
   "id": "bdd14ca7",
   "metadata": {},
   "outputs": [
    {
     "data": {
      "text/plain": [
       "False"
      ]
     },
     "execution_count": 107,
     "metadata": {},
     "output_type": "execute_result"
    }
   ],
   "source": [
    "# Searches for the href by the partial reference of driver and clicks it\n",
    "browser.links.find_by_partial_href(drivers[3])[2].click()\n",
    "\n",
    "# Optional delay for loading the page\n",
    "browser.is_element_present_by_css('div.list_text', wait_time=1)"
   ]
  },
  {
   "cell_type": "code",
   "execution_count": 108,
   "id": "fa273bb0",
   "metadata": {},
   "outputs": [],
   "source": [
    "# Convert the browser html to a soup object\n",
    "html = browser.html\n",
    "f1_soup = soup(html, 'html.parser')"
   ]
  },
  {
   "cell_type": "code",
   "execution_count": 109,
   "id": "b746ac6c",
   "metadata": {},
   "outputs": [
    {
     "data": {
      "text/plain": [
       "[{'race': 'Bahrain', 'position': '5', 'points': '10'},\n",
       " {'race': 'Emilia Romagna', 'position': '11', 'points': '0'},\n",
       " {'race': 'Portugal', 'position': '4', 'points': '12'},\n",
       " {'race': 'Spain', 'position': '5', 'points': '10'},\n",
       " {'race': 'Monaco', 'position': '4', 'points': '12'},\n",
       " {'race': 'Azerbaijan', 'position': '1', 'points': '25'},\n",
       " {'race': 'France', 'position': '3', 'points': '15'},\n",
       " {'race': 'Styria', 'position': '4', 'points': '12'},\n",
       " {'race': 'Austria', 'position': '6', 'points': '8'},\n",
       " {'race': 'Great Britain', 'position': '16', 'points': '0'},\n",
       " {'race': 'Hungary', 'position': 'DNF', 'points': '0'},\n",
       " {'race': 'Belgium', 'position': '19', 'points': '0'},\n",
       " {'race': 'Netherlands', 'position': '8', 'points': '4'},\n",
       " {'race': 'Italy', 'position': '5', 'points': '10'},\n",
       " {'race': 'Russia', 'position': '9', 'points': '2'},\n",
       " {'race': 'Turkey', 'position': '3', 'points': '15'},\n",
       " {'race': 'United States', 'position': '3', 'points': '15'},\n",
       " {'race': 'Mexico', 'position': '3', 'points': '15'},\n",
       " {'race': 'Brazil', 'position': '4', 'points': '13'},\n",
       " {'race': 'Qatar', 'position': '4', 'points': '12'}]"
      ]
     },
     "execution_count": 109,
     "metadata": {},
     "output_type": "execute_result"
    }
   ],
   "source": [
    "# Gets the table html\n",
    "results_html = f1_soup.find_all('tr')\n",
    "\n",
    "# Empty list to save the results(race, position and points)\n",
    "results=[]\n",
    "\n",
    "# Loops through each row of the table\n",
    "for item in results_html:\n",
    "    \n",
    "    # Converts html to a list \n",
    "    l = item.get_text().split()\n",
    "    \n",
    "    # Checks if the following word is a number in order to get the full name of the race\n",
    "    if(re.match(r'\\d',l[1])):\n",
    "        race = l[0]\n",
    "    else:\n",
    "        race = l[0]+' '+l[1]\n",
    "\n",
    "    # Adds each value to the list\n",
    "    results.append({'race':race,'position':l[-2],'points':l[-1]})\n",
    "\n",
    "# Removes header\n",
    "results.pop(0)\n",
    "results"
   ]
  },
  {
   "cell_type": "code",
   "execution_count": null,
   "id": "f960c947",
   "metadata": {},
   "outputs": [],
   "source": []
  }
 ],
 "metadata": {
  "kernelspec": {
   "display_name": "PythonData",
   "language": "python",
   "name": "pythondata"
  },
  "language_info": {
   "codemirror_mode": {
    "name": "ipython",
    "version": 3
   },
   "file_extension": ".py",
   "mimetype": "text/x-python",
   "name": "python",
   "nbconvert_exporter": "python",
   "pygments_lexer": "ipython3",
   "version": "3.7.10"
  }
 },
 "nbformat": 4,
 "nbformat_minor": 5
}
