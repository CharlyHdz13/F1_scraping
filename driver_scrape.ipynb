{
 "cells": [
  {
   "cell_type": "code",
   "execution_count": 85,
   "id": "a5f5cd05",
   "metadata": {},
   "outputs": [],
   "source": [
    "# Import dependencies\n",
    "from splinter import Browser\n",
    "from bs4 import BeautifulSoup as soup\n",
    "from webdriver_manager.chrome import ChromeDriverManager\n",
    "import pandas as pd\n",
    "import re"
   ]
  },
  {
   "cell_type": "code",
   "execution_count": 5,
   "id": "b0d97f8f",
   "metadata": {},
   "outputs": [
    {
     "name": "stderr",
     "output_type": "stream",
     "text": [
      "\n",
      "\n",
      "====== WebDriver manager ======\n",
      "Current google-chrome version is 96.0.4664\n",
      "Get LATEST chromedriver version for 96.0.4664 google-chrome\n",
      "Driver [C:\\Users\\PC\\.wdm\\drivers\\chromedriver\\win32\\96.0.4664.45\\chromedriver.exe] found in cache\n"
     ]
    }
   ],
   "source": [
    "# create browser that will navigate automatically through websites\n",
    "executable_path = {'executable_path': ChromeDriverManager().install()}\n",
    "browser = Browser('chrome', **executable_path, headless=False)"
   ]
  },
  {
   "cell_type": "code",
   "execution_count": 80,
   "id": "dbf20ba3",
   "metadata": {},
   "outputs": [],
   "source": [
    "# Visit the 2021 race results site\n",
    "url = 'https://www.formula1.com/en/results.html/2021/drivers.html'\n",
    "browser.visit(url)"
   ]
  },
  {
   "cell_type": "code",
   "execution_count": 7,
   "id": "ab916868",
   "metadata": {},
   "outputs": [],
   "source": [
    "# Accept all cookies\n",
    "browser.find_by_id('truste-consent-button').click()"
   ]
  },
  {
   "cell_type": "code",
   "execution_count": 79,
   "id": "9e3892b0",
   "metadata": {},
   "outputs": [
    {
     "data": {
      "text/plain": [
       "'lewis-hamilton'"
      ]
     },
     "execution_count": 79,
     "metadata": {},
     "output_type": "execute_result"
    }
   ],
   "source": [
    "# Set the string to find in the webpage\n",
    "driver = 'Lewis Hamilton'\n",
    "driver=driver.lower().replace(' ','-')\n",
    "driver"
   ]
  },
  {
   "cell_type": "code",
   "execution_count": 81,
   "id": "8d31c233",
   "metadata": {},
   "outputs": [
    {
     "data": {
      "text/plain": [
       "False"
      ]
     },
     "execution_count": 81,
     "metadata": {},
     "output_type": "execute_result"
    }
   ],
   "source": [
    "# Searches for the href by the partial reference of driver and clicks it\n",
    "browser.links.find_by_partial_href(driver)[2].click()\n",
    "\n",
    "# Optional delay for loading the page\n",
    "browser.is_element_present_by_css('div.list_text', wait_time=1)"
   ]
  },
  {
   "cell_type": "code",
   "execution_count": 82,
   "id": "8831698e",
   "metadata": {},
   "outputs": [],
   "source": [
    "# Convert the browser html to a soup object and then quit the browser\n",
    "html = browser.html\n",
    "f1_soup = soup(html, 'html.parser')"
   ]
  },
  {
   "cell_type": "code",
   "execution_count": 88,
   "id": "b1da35e1",
   "metadata": {},
   "outputs": [
    {
     "data": {
      "text/plain": [
       "[{'race': 'Bahrain', 'position': '1', 'points': '25'},\n",
       " {'race': 'Emilia Romagna', 'position': '2', 'points': '19'},\n",
       " {'race': 'Portugal', 'position': '1', 'points': '25'},\n",
       " {'race': 'Spain', 'position': '1', 'points': '25'},\n",
       " {'race': 'Monaco', 'position': '7', 'points': '7'},\n",
       " {'race': 'Azerbaijan', 'position': '15', 'points': '0'},\n",
       " {'race': 'France', 'position': '2', 'points': '18'},\n",
       " {'race': 'Styria', 'position': '2', 'points': '19'},\n",
       " {'race': 'Austria', 'position': '4', 'points': '12'},\n",
       " {'race': 'Great Britain', 'position': '1', 'points': '27'},\n",
       " {'race': 'Hungary', 'position': '2', 'points': '18'},\n",
       " {'race': 'Belgium', 'position': '3', 'points': '7.5'},\n",
       " {'race': 'Netherlands', 'position': '2', 'points': '19'},\n",
       " {'race': 'Italy', 'position': 'DNF', 'points': '0'},\n",
       " {'race': 'Russia', 'position': '1', 'points': '25'},\n",
       " {'race': 'Turkey', 'position': '5', 'points': '10'},\n",
       " {'race': 'United States', 'position': '2', 'points': '19'},\n",
       " {'race': 'Mexico', 'position': '2', 'points': '18'},\n",
       " {'race': 'Brazil', 'position': '1', 'points': '25'},\n",
       " {'race': 'Qatar', 'position': '1', 'points': '25'}]"
      ]
     },
     "execution_count": 88,
     "metadata": {},
     "output_type": "execute_result"
    }
   ],
   "source": [
    "# Gets the table html\n",
    "results_html = f1_soup.find_all('tr')\n",
    "\n",
    "# Empty list to save the results(race, position and points)\n",
    "results=[]\n",
    "\n",
    "# Loops through each row of the table\n",
    "for item in results_html:\n",
    "    # Converts html to a list \n",
    "    l = item.get_text().split()\n",
    "    \n",
    "    # Checks if the following word is a number in order to get the full name of the race\n",
    "    if(re.match(r'\\d',l[1])):\n",
    "        race = l[0]\n",
    "    else:\n",
    "        race = l[0]+' '+l[1]\n",
    "\n",
    "    # Adds each value to the list\n",
    "    results.append({'race':race,'position':l[-2],'points':l[-1]})\n",
    "\n",
    "# Removes header\n",
    "results.pop(0)\n",
    "results"
   ]
  }
 ],
 "metadata": {
  "kernelspec": {
   "display_name": "PythonData",
   "language": "python",
   "name": "pythondata"
  },
  "language_info": {
   "codemirror_mode": {
    "name": "ipython",
    "version": 3
   },
   "file_extension": ".py",
   "mimetype": "text/x-python",
   "name": "python",
   "nbconvert_exporter": "python",
   "pygments_lexer": "ipython3",
   "version": "3.7.10"
  }
 },
 "nbformat": 4,
 "nbformat_minor": 5
}
